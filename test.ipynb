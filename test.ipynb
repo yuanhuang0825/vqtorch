{
 "cells": [
  {
   "cell_type": "code",
   "execution_count": 1,
   "id": "c99e488b",
   "metadata": {},
   "outputs": [
    {
     "data": {
      "text/plain": [
       "tensor([0.5113, 0.1161, 1.9593])"
      ]
     },
     "execution_count": 1,
     "metadata": {},
     "output_type": "execute_result"
    }
   ],
   "source": [
    "import torch\n",
    "\n",
    "a = torch.randn((2,3))\n",
    "mask = torch.tensor([[1, 0, 0], [1, 1, 0]], dtype=torch.bool)\n",
    "a[mask]\n"
   ]
  },
  {
   "cell_type": "code",
   "execution_count": 2,
   "id": "573ab6bc",
   "metadata": {},
   "outputs": [
    {
     "name": "stdout",
     "output_type": "stream",
     "text": [
      "tensor([[[ 1.4293,  0.2757,  1.1454,  1.8593, -0.8667],\n",
      "         [ 1.6642,  3.0250,  1.7501,  1.4711,  0.9272],\n",
      "         [ 0.8729,  1.0004, -0.0467, -1.0041,  1.1359]],\n",
      "\n",
      "        [[ 1.4677,  0.1872,  0.2534, -0.6242, -1.1886],\n",
      "         [ 0.8304,  2.0559,  1.4685, -1.5476, -2.0512],\n",
      "         [-0.7615,  0.9121,  0.6427, -0.6674, -0.3391]]])\n"
     ]
    },
    {
     "name": "stdout",
     "output_type": "stream",
     "text": [
      "(tensor([[[ 0.3743,  0.4454,  0.3602,  0.6185, -0.4680],\n",
      "         [ 0.2449,  0.5615,  0.3658,  0.4873,  0.0032],\n",
      "         [ 0.2762,  0.3889, -0.0027, -0.4235,  0.7718]],\n",
      "\n",
      "        [[ 0.8530, -0.1201,  0.1973, -0.4193, -0.7342],\n",
      "         [ 0.1142,  0.5106,  0.5380, -0.4353, -0.3449],\n",
      "         [-0.2462,  0.4242,  0.3141, -0.4821,  0.0536]]],\n",
      "       grad_fn=<PermuteBackward0>), {'z': tensor([[[[ 0.5171,  0.0997,  0.4144,  0.6727, -0.3136]],\n",
      "\n",
      "         [[ 0.3922,  0.7129,  0.4124,  0.3467,  0.2185]],\n",
      "\n",
      "         [[ 0.4330,  0.4963, -0.0232, -0.4981,  0.5635]]],\n",
      "\n",
      "\n",
      "        [[[ 0.7288,  0.0929,  0.1258, -0.3099, -0.5902]],\n",
      "\n",
      "         [[ 0.2245,  0.5559,  0.3971, -0.4185, -0.5547]],\n",
      "\n",
      "         [[-0.4931,  0.5906,  0.4161, -0.4321, -0.2196]]]]), 'z_q': tensor([[[[ 0.3743,  0.4454,  0.3602,  0.6185, -0.4680]],\n",
      "\n",
      "         [[ 0.2449,  0.5615,  0.3658,  0.4873,  0.0032]],\n",
      "\n",
      "         [[ 0.2762,  0.3889, -0.0027, -0.4235,  0.7718]]],\n",
      "\n",
      "\n",
      "        [[[ 0.8530, -0.1201,  0.1973, -0.4193, -0.7342]],\n",
      "\n",
      "         [[ 0.1142,  0.5106,  0.5380, -0.4353, -0.3449]],\n",
      "\n",
      "         [[-0.2462,  0.4242,  0.3141, -0.4821,  0.0536]]]],\n",
      "       grad_fn=<MulBackward0>), 'd': tensor([[[0.4119],\n",
      "         [0.3360],\n",
      "         [0.2924]],\n",
      "\n",
      "        [[0.3140],\n",
      "         [0.2800],\n",
      "         [0.4198]]]), 'q': tensor([[[ 76],\n",
      "         [ 90],\n",
      "         [ 71]],\n",
      "\n",
      "        [[117],\n",
      "         [103],\n",
      "         [ 82]]]), 'loss': tensor(0.0240, grad_fn=<MeanBackward0>), 'perplexity': tensor(6.0000)})\n"
     ]
    }
   ],
   "source": [
    "from vqtorch.nn import  VectorQuant\n",
    "import torch\n",
    "inplace_optimizer = lambda *args, **kwargs: torch.optim.SGD(*args, **kwargs, lr=50.0, momentum=0.9)\n",
    "vq = VectorQuant(\n",
    "            feature_size=5,     # feature dimension corresponding to the vectors\n",
    "            num_codes=128,      # number of codebook vectors\n",
    "            beta=1.0,           # (default: 0.9) commitment trade-off\n",
    "            kmeans_init=False,    # (default: False) whether to use kmeans++ init\n",
    "            norm='l2',           # (default: None) normalization for the input vectors\n",
    "            cb_norm='l2',        # (default: None) normalization for codebook vectors\n",
    "            affine_lr=10,      # (default: 0.0) lr scale for affine parameters\n",
    "            sync_nu=0.2,         # (default: 0.0) codebook synchronization contribution\n",
    "            replace_freq=20,     # (default: None) frequency to replace dead codes\n",
    "            dim=-1,             # (default: -1) dimension to be quantized\n",
    "            affine_groups=4,\n",
    "            inplace_optimizer = inplace_optimizer\n",
    "        )\n",
    "\n",
    "input = torch.randn((2,3,5))\n",
    "print(input)\n",
    "mask = torch.tensor([[1,1,0],[1,0,0]])\n",
    "output = vq(input)\n",
    "print(output)\n"
   ]
  }
 ],
 "metadata": {
  "kernelspec": {
   "display_name": "RGG-VAE",
   "language": "python",
   "name": "python3"
  },
  "language_info": {
   "codemirror_mode": {
    "name": "ipython",
    "version": 3
   },
   "file_extension": ".py",
   "mimetype": "text/x-python",
   "name": "python",
   "nbconvert_exporter": "python",
   "pygments_lexer": "ipython3",
   "version": "3.12.8"
  }
 },
 "nbformat": 4,
 "nbformat_minor": 5
}
