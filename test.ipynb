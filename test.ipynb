{
 "cells": [
  {
   "cell_type": "code",
   "execution_count": 1,
   "id": "c99e488b",
   "metadata": {},
   "outputs": [
    {
     "data": {
      "text/plain": [
       "tensor([0.5113, 0.1161, 1.9593])"
      ]
     },
     "execution_count": 1,
     "metadata": {},
     "output_type": "execute_result"
    }
   ],
   "source": [
    "import torch\n",
    "\n",
    "a = torch.randn((2,3))\n",
    "mask = torch.tensor([[1, 0, 0], [1, 1, 0]], dtype=torch.bool)\n",
    "a[mask]\n"
   ]
  },
  {
   "cell_type": "code",
   "execution_count": 1,
   "id": "573ab6bc",
   "metadata": {},
   "outputs": [
    {
     "name": "stdout",
     "output_type": "stream",
     "text": [
      "tensor([[[ 0.7690,  0.7493,  0.8503,  1.1202, -0.2745],\n",
      "         [-0.9804, -0.0974,  0.6995,  0.8019, -0.5990],\n",
      "         [ 1.5012,  0.7038, -1.0307, -1.5028, -1.7510]],\n",
      "\n",
      "        [[ 1.0248, -0.6812, -0.6149, -0.6044,  0.8560],\n",
      "         [-1.0090, -0.1933, -1.0503, -0.0769,  1.2153],\n",
      "         [-0.9920, -1.0508,  0.4780, -1.3487, -0.2355]]])\n"
     ]
    }
   ],
   "source": [
    "from vqtorch.nn import  VectorQuant\n",
    "import torch\n",
    "torch.autograd.set_detect_anomaly(True)\n",
    "inplace_optimizer = lambda *args, **kwargs: torch.optim.SGD(*args, **kwargs, lr=50.0, momentum=0.9)\n",
    "vq = VectorQuant(\n",
    "            feature_size=5,     # feature dimension corresponding to the vectors\n",
    "            num_codes=128,      # number of codebook vectors\n",
    "            beta=1.0,           # (default: 0.9) commitment trade-off\n",
    "            kmeans_init=False,    # (default: False) whether to use kmeans++ init\n",
    "            norm='l2',           # (default: None) normalization for the input vectors\n",
    "            cb_norm='l2',        # (default: None) normalization for codebook vectors\n",
    "            affine_lr=10,      # (default: 0.0) lr scale for affine parameters\n",
    "            sync_nu=0.2,         # (default: 0.0) codebook synchronization contribution\n",
    "            replace_freq=20,     # (default: None) frequency to replace dead codes\n",
    "            dim=-1,             # (default: -1) dimension to be quantized\n",
    "            affine_groups=4,\n",
    "            inplace_optimizer = inplace_optimizer\n",
    "        )\n",
    "\n",
    "input = torch.randn((2,3,5))\n",
    "print(input)\n",
    "mask = torch.tensor([[1,1,0],[1,0,0]])\n",
    "output,_ = vq(input)\n",
    "output.sum().backward()\n"
   ]
  }
 ],
 "metadata": {
  "kernelspec": {
   "display_name": "RGG-VAE",
   "language": "python",
   "name": "python3"
  },
  "language_info": {
   "codemirror_mode": {
    "name": "ipython",
    "version": 3
   },
   "file_extension": ".py",
   "mimetype": "text/x-python",
   "name": "python",
   "nbconvert_exporter": "python",
   "pygments_lexer": "ipython3",
   "version": "3.12.8"
  }
 },
 "nbformat": 4,
 "nbformat_minor": 5
}
